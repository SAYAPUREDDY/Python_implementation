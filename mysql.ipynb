{
 "cells": [
  {
   "cell_type": "code",
   "execution_count": 4,
   "metadata": {},
   "outputs": [],
   "source": [
    "import mysql.connector"
   ]
  },
  {
   "cell_type": "code",
   "execution_count": 5,
   "metadata": {},
   "outputs": [
    {
     "name": "stdout",
     "output_type": "stream",
     "text": [
      "<mysql.connector.connection_cext.CMySQLConnection object at 0x0000028E2F204760>\n"
     ]
    }
   ],
   "source": [
    "# crating connection to the database\n",
    "mydb=mysql.connector.connect(\n",
    "    host=\"localhost\",\n",
    "    user=\"root\",\n",
    "    password=\"Suryateja@123\"\n",
    ")\n",
    "\n",
    "print(mydb)\n",
    "\n"
   ]
  },
  {
   "cell_type": "markdown",
   "metadata": {},
   "source": [
    "# Creating a Database"
   ]
  },
  {
   "cell_type": "code",
   "execution_count": 4,
   "metadata": {},
   "outputs": [],
   "source": [
    "# using the CREATE DATABASE statement to create the database\n",
    "mycursor=mydb.cursor()\n",
    "mycursor.execute(\"CREATE DATABASE mydatabase\")"
   ]
  },
  {
   "cell_type": "code",
   "execution_count": 5,
   "metadata": {},
   "outputs": [
    {
     "name": "stdout",
     "output_type": "stream",
     "text": [
      "('information_schema',)\n",
      "('mydatabase',)\n",
      "('mysql',)\n",
      "('performance_schema',)\n",
      "('sys',)\n"
     ]
    }
   ],
   "source": [
    "# checking the available databases\n",
    "mycursor=mydb.cursor()\n",
    "mycursor.execute(\"SHOW DATABASES\")\n",
    "\n",
    "for x in mycursor:\n",
    "    print(x)"
   ]
  },
  {
   "cell_type": "markdown",
   "metadata": {},
   "source": [
    "# Creating a Table"
   ]
  },
  {
   "cell_type": "code",
   "execution_count": 9,
   "metadata": {},
   "outputs": [],
   "source": [
    "# connect the created database\n",
    "import mysql.connector\n",
    "\n",
    "mydb=mysql.connector.connect(\n",
    "    host=\"localhost\",\n",
    "    user=\"root\",\n",
    "    password=\"Suryateja@123\",\n",
    "    database=\"mydatabase\"\n",
    ")\n",
    "\n",
    "mycursor=mydb.cursor()\n",
    "mycursor.execute(\"CREATE TABLE customers (name VARCHAR(255), address VARCHAR(255))\")"
   ]
  },
  {
   "cell_type": "code",
   "execution_count": 10,
   "metadata": {},
   "outputs": [
    {
     "name": "stdout",
     "output_type": "stream",
     "text": [
      "('customers',)\n"
     ]
    }
   ],
   "source": [
    "# checking whther the table exists\n",
    "mycursor.execute(\"SHOW TABLES\")\n",
    "\n",
    "for x in mycursor:\n",
    "    print(x)"
   ]
  },
  {
   "cell_type": "markdown",
   "metadata": {},
   "source": [
    "# Primary Key"
   ]
  },
  {
   "cell_type": "code",
   "execution_count": null,
   "metadata": {},
   "outputs": [],
   "source": [
    "# the statement \"INT AUTO_INCREMENT PRIMARY KEY\", will insert a unique number for each record.starting at 1, and increased by one for each record\n",
    "# this is for adding the primary key to the new table \n",
    "# As we have already created the table, it shows error\n",
    "mycursor.execute(\"CREATE TABLE customers (id INT AUTO_INCREMENT PRIMARY KEY, name VARCHAR(255), address VARCHAR(255))\")"
   ]
  },
  {
   "cell_type": "code",
   "execution_count": 12,
   "metadata": {},
   "outputs": [],
   "source": [
    "# creating the primary key for already exsisting table\n",
    "mycursor.execute(\"ALTER TABLE customers ADD COLUMN id INT AUTO_INCREMENT PRIMARY KEY\")"
   ]
  },
  {
   "cell_type": "markdown",
   "metadata": {},
   "source": [
    "# Insert"
   ]
  },
  {
   "cell_type": "code",
   "execution_count": 13,
   "metadata": {},
   "outputs": [
    {
     "name": "stdout",
     "output_type": "stream",
     "text": [
      "1 record inserted\n"
     ]
    }
   ],
   "source": [
    "# inserting the record in to the table\n",
    "mycursor=mydb.cursor()\n",
    "\n",
    "sql=\"INSERT INTO customers (name,address) VALUES (%s,%s)\"\n",
    "val=(\"surya\",\"Kothmaissling 37\")\n",
    "mycursor.execute(sql,val)\n",
    "\n",
    "# this command is needed to make the changes made in the table\n",
    "mydb.commit()\n",
    "\n",
    "print(mycursor.rowcount,\"record inserted\")"
   ]
  },
  {
   "cell_type": "code",
   "execution_count": 17,
   "metadata": {},
   "outputs": [
    {
     "name": "stdout",
     "output_type": "stream",
     "text": [
      "13  was inserted\n"
     ]
    }
   ],
   "source": [
    "# insert multiple rows\n",
    "sql=\"INSERT INTO customers (name,address) VALUES (%s,%s)\"\n",
    "val=[\n",
    "  ('Peter', 'Lowstreet 4'),\n",
    "  ('Amy', 'Apple st 652'),\n",
    "  ('Hannah', 'Mountain 21'),\n",
    "  ('Michael', 'Valley 345'),\n",
    "  ('Sandy', 'Ocean blvd 2'),\n",
    "  ('Betty', 'Green Grass 1'),\n",
    "  ('Richard', 'Sky st 331'),\n",
    "  ('Susan', 'One way 98'),\n",
    "  ('Vicky', 'Yellow Garden 2'),\n",
    "  ('Ben', 'Park Lane 38'),\n",
    "  ('William', 'Central st 954'),\n",
    "  ('Chuck', 'Main Road 989'),\n",
    "  ('Viola', 'Sideway 1633')\n",
    "]\n",
    "mycursor.executemany(sql,val)\n",
    "mydb.commit()\n",
    "print(mycursor.rowcount,\" was inserted\")"
   ]
  },
  {
   "cell_type": "code",
   "execution_count": 18,
   "metadata": {},
   "outputs": [
    {
     "name": "stdout",
     "output_type": "stream",
     "text": [
      "1 record inserted, ID: 42\n"
     ]
    }
   ],
   "source": [
    "# getting the recent inserted row, and if we have inserted more then it shows last ID of that inserted list\n",
    "sql = \"INSERT INTO customers (name, address) VALUES (%s, %s)\"\n",
    "val = (\"Michelle\", \"Blue Village\")\n",
    "mycursor.execute(sql, val)\n",
    "mydb.commit()\n",
    "print(\"1 record inserted, ID:\", mycursor.lastrowid)"
   ]
  },
  {
   "cell_type": "markdown",
   "metadata": {},
   "source": [
    "# Select From"
   ]
  },
  {
   "cell_type": "code",
   "execution_count": 1,
   "metadata": {},
   "outputs": [
    {
     "name": "stdout",
     "output_type": "stream",
     "text": [
      "('surya', 'Kothmaissling 37')\n",
      "('Peter', 'Lowstreet 4')\n",
      "('Amy', 'Apple st 652')\n",
      "('Hannah', 'Mountain 21')\n",
      "('Michael', 'Valley 345')\n",
      "('Sandy', 'Ocean blvd 2')\n",
      "('Betty', 'Green Grass 1')\n",
      "('Richard', 'Sky st 331')\n",
      "('Susan', 'One way 98')\n",
      "('Vicky', 'Yellow Garden 2')\n",
      "('Ben', 'Park Lane 38')\n",
      "('William', 'Central st 954')\n",
      "('Chuck', 'Main Road 989')\n",
      "('Viola', 'Sideway 1633')\n",
      "('Michelle', 'Blue Village')\n",
      "('Peter', 'Lowstreet 4')\n",
      "('Amy', 'Apple st 652')\n",
      "('Hannah', 'Mountain 21')\n",
      "('Michael', 'Valley 345')\n",
      "('Sandy', 'Ocean blvd 2')\n",
      "('Betty', 'Green Grass 1')\n",
      "('Richard', 'Sky st 331')\n",
      "('Susan', 'One way 98')\n",
      "('Vicky', 'Yellow Garden 2')\n",
      "('Ben', 'Park Lane 38')\n",
      "('William', 'Central st 954')\n",
      "('Chuck', 'Main Road 989')\n",
      "('Viola', 'Sideway 1633')\n",
      "('Peter', 'Lowstreet 4')\n",
      "('Amy', 'Apple st 652')\n",
      "('Hannah', 'Mountain 21')\n",
      "('Michael', 'Valley 345')\n",
      "('Sandy', 'Ocean blvd 2')\n",
      "('Betty', 'Green Grass 1')\n",
      "('Richard', 'Sky st 331')\n",
      "('Susan', 'One way 98')\n",
      "('Vicky', 'Yellow Garden 2')\n",
      "('Ben', 'Park Lane 38')\n",
      "('William', 'Central st 954')\n",
      "('Chuck', 'Main Road 989')\n",
      "('Viola', 'Sideway 1633')\n",
      "('Michelle', 'Blue Village')\n"
     ]
    }
   ],
   "source": [
    "# selecting the columns\n",
    "import mysql.connector\n",
    "\n",
    "mydb=mysql.connector.connect(\n",
    "    host=\"localhost\",\n",
    "    user=\"root\",\n",
    "    password=\"Suryateja@123\",\n",
    "    database=\"mydatabase\"\n",
    ")\n",
    "mycursor = mydb.cursor()\n",
    "mycursor.execute(\"SELECT name, address FROM customers\")\n",
    "myresult = mycursor.fetchall()\n",
    "for x in myresult:\n",
    "    print(x)"
   ]
  },
  {
   "cell_type": "code",
   "execution_count": 2,
   "metadata": {},
   "outputs": [
    {
     "name": "stdout",
     "output_type": "stream",
     "text": [
      "('surya', 'Kothmaissling 37', 1)\n"
     ]
    }
   ],
   "source": [
    "# using the fetch one method\n",
    "mycursor = mydb.cursor()\n",
    "mycursor.execute(\"SELECT * FROM customers\")\n",
    "myresult = mycursor.fetchone()\n",
    "print(myresult)"
   ]
  },
  {
   "cell_type": "markdown",
   "metadata": {},
   "source": [
    "# where"
   ]
  },
  {
   "cell_type": "code",
   "execution_count": 8,
   "metadata": {},
   "outputs": [
    {
     "name": "stdout",
     "output_type": "stream",
     "text": [
      "('Ben', 'Park Lane 38', 11)\n",
      "('Ben', 'Park Lane 38', 25)\n",
      "('Ben', 'Park Lane 38', 38)\n"
     ]
    }
   ],
   "source": [
    "# always create a new cursor for multiple usage so that it wont raise any problems or errors\n",
    "# select with a filter\n",
    "import mysql.connector\n",
    "\n",
    "mydb=mysql.connector.connect(\n",
    "    host=\"localhost\",\n",
    "    user=\"root\",\n",
    "    password=\"Suryateja@123\",\n",
    "    database=\"mydatabase\"\n",
    ")\n",
    "\n",
    "mycursor = mydb.cursor()\n",
    "\n",
    "sql = \"SELECT * FROM customers WHERE address ='Park Lane 38'\"\n",
    "\n",
    "mycursor.execute(sql)\n",
    "\n",
    "myresult = mycursor.fetchall()\n",
    "\n",
    "for x in myresult:\n",
    "  print(x)"
   ]
  },
  {
   "cell_type": "code",
   "execution_count": 12,
   "metadata": {},
   "outputs": [
    {
     "name": "stdout",
     "output_type": "stream",
     "text": [
      "('surya', 'Kothmaissling 37', 1)\n"
     ]
    }
   ],
   "source": [
    "# wildcard characters\n",
    "mydb=mysql.connector.connect(\n",
    "    host=\"localhost\",\n",
    "    user=\"root\",\n",
    "    password=\"Suryateja@123\",\n",
    "    database=\"mydatabase\"\n",
    ")\n",
    "mycursor = mydb.cursor()\n",
    "sql = \"SELECT * FROM customers WHERE address LIKE '%ling%'\"\n",
    "\n",
    "mycursor.execute(sql)\n",
    "\n",
    "myresult = mycursor.fetchall()\n",
    "\n",
    "for x in myresult:\n",
    "  print(x)\n"
   ]
  },
  {
   "cell_type": "code",
   "execution_count": 13,
   "metadata": {},
   "outputs": [
    {
     "name": "stdout",
     "output_type": "stream",
     "text": [
      "('Vicky', 'Yellow Garden 2', 10)\n",
      "('Vicky', 'Yellow Garden 2', 24)\n",
      "('Vicky', 'Yellow Garden 2', 37)\n"
     ]
    }
   ],
   "source": [
    "# prevent sql injection\n",
    "mycursor = mydb.cursor()\n",
    "\n",
    "sql = \"SELECT * FROM customers WHERE address = %s\"\n",
    "adr = (\"Yellow Garden 2\", )\n",
    "\n",
    "mycursor.execute(sql, adr)\n",
    "\n",
    "myresult = mycursor.fetchall()\n",
    "\n",
    "for x in myresult:\n",
    "  print(x)"
   ]
  },
  {
   "cell_type": "markdown",
   "metadata": {},
   "source": [
    "# Order By"
   ]
  },
  {
   "cell_type": "code",
   "execution_count": 14,
   "metadata": {},
   "outputs": [
    {
     "name": "stdout",
     "output_type": "stream",
     "text": [
      "('Amy', 'Apple st 652', 3)\n",
      "('Amy', 'Apple st 652', 30)\n",
      "('Amy', 'Apple st 652', 17)\n",
      "('Ben', 'Park Lane 38', 11)\n",
      "('Ben', 'Park Lane 38', 25)\n",
      "('Ben', 'Park Lane 38', 38)\n",
      "('Betty', 'Green Grass 1', 7)\n",
      "('Betty', 'Green Grass 1', 34)\n",
      "('Betty', 'Green Grass 1', 21)\n",
      "('Chuck', 'Main Road 989', 27)\n",
      "('Chuck', 'Main Road 989', 40)\n",
      "('Chuck', 'Main Road 989', 13)\n",
      "('Hannah', 'Mountain 21', 4)\n",
      "('Hannah', 'Mountain 21', 31)\n",
      "('Hannah', 'Mountain 21', 18)\n",
      "('Michael', 'Valley 345', 19)\n",
      "('Michael', 'Valley 345', 5)\n",
      "('Michael', 'Valley 345', 32)\n",
      "('Michelle', 'Blue Village', 15)\n",
      "('Michelle', 'Blue Village', 42)\n",
      "('Peter', 'Lowstreet 4', 2)\n",
      "('Peter', 'Lowstreet 4', 29)\n",
      "('Peter', 'Lowstreet 4', 16)\n",
      "('Richard', 'Sky st 331', 8)\n",
      "('Richard', 'Sky st 331', 22)\n",
      "('Richard', 'Sky st 331', 35)\n",
      "('Sandy', 'Ocean blvd 2', 20)\n",
      "('Sandy', 'Ocean blvd 2', 33)\n",
      "('Sandy', 'Ocean blvd 2', 6)\n",
      "('surya', 'Kothmaissling 37', 1)\n",
      "('Susan', 'One way 98', 23)\n",
      "('Susan', 'One way 98', 36)\n",
      "('Susan', 'One way 98', 9)\n",
      "('Vicky', 'Yellow Garden 2', 24)\n",
      "('Vicky', 'Yellow Garden 2', 10)\n",
      "('Vicky', 'Yellow Garden 2', 37)\n",
      "('Viola', 'Sideway 1633', 28)\n",
      "('Viola', 'Sideway 1633', 14)\n",
      "('Viola', 'Sideway 1633', 41)\n",
      "('William', 'Central st 954', 26)\n",
      "('William', 'Central st 954', 12)\n",
      "('William', 'Central st 954', 39)\n"
     ]
    }
   ],
   "source": [
    "# order them in a ascending order\n",
    "mycursor = mydb.cursor()\n",
    "sql = \"SELECT * FROM customers ORDER BY name\"\n",
    "mycursor.execute(sql)\n",
    "myresult = mycursor.fetchall()\n",
    "for x in myresult:\n",
    "  print(x)"
   ]
  },
  {
   "cell_type": "code",
   "execution_count": 15,
   "metadata": {},
   "outputs": [
    {
     "name": "stdout",
     "output_type": "stream",
     "text": [
      "('William', 'Central st 954', 12)\n",
      "('William', 'Central st 954', 26)\n",
      "('William', 'Central st 954', 39)\n",
      "('Viola', 'Sideway 1633', 28)\n",
      "('Viola', 'Sideway 1633', 14)\n",
      "('Viola', 'Sideway 1633', 41)\n",
      "('Vicky', 'Yellow Garden 2', 37)\n",
      "('Vicky', 'Yellow Garden 2', 10)\n",
      "('Vicky', 'Yellow Garden 2', 24)\n",
      "('Susan', 'One way 98', 36)\n",
      "('Susan', 'One way 98', 9)\n",
      "('Susan', 'One way 98', 23)\n",
      "('surya', 'Kothmaissling 37', 1)\n",
      "('Sandy', 'Ocean blvd 2', 33)\n",
      "('Sandy', 'Ocean blvd 2', 6)\n",
      "('Sandy', 'Ocean blvd 2', 20)\n",
      "('Richard', 'Sky st 331', 35)\n",
      "('Richard', 'Sky st 331', 8)\n",
      "('Richard', 'Sky st 331', 22)\n",
      "('Peter', 'Lowstreet 4', 2)\n",
      "('Peter', 'Lowstreet 4', 29)\n",
      "('Peter', 'Lowstreet 4', 16)\n",
      "('Michelle', 'Blue Village', 15)\n",
      "('Michelle', 'Blue Village', 42)\n",
      "('Michael', 'Valley 345', 5)\n",
      "('Michael', 'Valley 345', 19)\n",
      "('Michael', 'Valley 345', 32)\n",
      "('Hannah', 'Mountain 21', 18)\n",
      "('Hannah', 'Mountain 21', 31)\n",
      "('Hannah', 'Mountain 21', 4)\n",
      "('Chuck', 'Main Road 989', 13)\n",
      "('Chuck', 'Main Road 989', 27)\n",
      "('Chuck', 'Main Road 989', 40)\n",
      "('Betty', 'Green Grass 1', 7)\n",
      "('Betty', 'Green Grass 1', 34)\n",
      "('Betty', 'Green Grass 1', 21)\n",
      "('Ben', 'Park Lane 38', 25)\n",
      "('Ben', 'Park Lane 38', 11)\n",
      "('Ben', 'Park Lane 38', 38)\n",
      "('Amy', 'Apple st 652', 17)\n",
      "('Amy', 'Apple st 652', 30)\n",
      "('Amy', 'Apple st 652', 3)\n"
     ]
    }
   ],
   "source": [
    "# descending order\n",
    "mycursor = mydb.cursor()\n",
    "sql = \"SELECT * FROM customers ORDER BY name DESC\"\n",
    "mycursor.execute(sql)\n",
    "myresult = mycursor.fetchall()\n",
    "for x in myresult:\n",
    "  print(x)"
   ]
  },
  {
   "cell_type": "markdown",
   "metadata": {},
   "source": [
    "# Delete From By"
   ]
  },
  {
   "cell_type": "code",
   "execution_count": 16,
   "metadata": {},
   "outputs": [
    {
     "name": "stdout",
     "output_type": "stream",
     "text": [
      "3 record(s) deleted\n"
     ]
    }
   ],
   "source": [
    "mycursor = mydb.cursor()\n",
    "sql = \"DELETE FROM customers WHERE address = 'Mountain 21'\"\n",
    "mycursor.execute(sql)\n",
    "mydb.commit()\n",
    "print(mycursor.rowcount, \"record(s) deleted\")"
   ]
  },
  {
   "cell_type": "code",
   "execution_count": 28,
   "metadata": {},
   "outputs": [
    {
     "name": "stdout",
     "output_type": "stream",
     "text": [
      "3 record(s) deleted\n"
     ]
    }
   ],
   "source": [
    "# preventing the sql injection\n",
    "mycursor = mydb.cursor()\n",
    "sql = \"DELETE FROM customers WHERE address = %s\"\n",
    "adr=('Sky st 331',)\n",
    "mycursor.execute(sql,adr)\n",
    "mydb.commit()\n",
    "print(mycursor.rowcount, \"record(s) deleted\")"
   ]
  },
  {
   "cell_type": "markdown",
   "metadata": {},
   "source": [
    "# Drop Table"
   ]
  },
  {
   "cell_type": "code",
   "execution_count": 2,
   "metadata": {},
   "outputs": [],
   "source": [
    "import mysql.connector\n",
    "mydb=mysql.connector.connect(\n",
    "    host=\"localhost\",\n",
    "    user=\"root\",\n",
    "    password=\"Suryateja@123\",\n",
    "    database=\"mydatabase\"\n",
    ")\n"
   ]
  },
  {
   "cell_type": "code",
   "execution_count": 3,
   "metadata": {},
   "outputs": [],
   "source": [
    "# Delete the table\n",
    "mycursor=mydb.cursor()\n",
    "sql = \"DROP TABLE customers\"\n",
    "mycursor.execute(sql)"
   ]
  },
  {
   "cell_type": "code",
   "execution_count": 5,
   "metadata": {},
   "outputs": [],
   "source": [
    "# delete the table if exsists\n",
    "mycursor=mydb.cursor()\n",
    "sql=\"DROP TABLE IF EXISTS customers\"\n",
    "mycursor.execute(sql)"
   ]
  },
  {
   "cell_type": "markdown",
   "metadata": {},
   "source": [
    "# Update Table"
   ]
  },
  {
   "cell_type": "code",
   "execution_count": 7,
   "metadata": {},
   "outputs": [],
   "source": [
    "mycursor=mydb.cursor()\n",
    "mycursor.execute(\"CREATE TABLE customers (name VARCHAR(255), address VARCHAR(255))\")"
   ]
  },
  {
   "cell_type": "code",
   "execution_count": 8,
   "metadata": {},
   "outputs": [
    {
     "name": "stdout",
     "output_type": "stream",
     "text": [
      "13  was inserted\n"
     ]
    }
   ],
   "source": [
    "sql=\"INSERT INTO customers (name,address) VALUES (%s,%s)\"\n",
    "val=[\n",
    "  ('Peter', 'Lowstreet 4'),\n",
    "  ('Amy', 'Apple st 652'),\n",
    "  ('Hannah', 'Mountain 21'),\n",
    "  ('Michael', 'Valley 345'),\n",
    "  ('Sandy', 'Ocean blvd 2'),\n",
    "  ('Betty', 'Green Grass 1'),\n",
    "  ('Richard', 'Sky st 331'),\n",
    "  ('Susan', 'One way 98'),\n",
    "  ('Vicky', 'Yellow Garden 2'),\n",
    "  ('Ben', 'Park Lane 38'),\n",
    "  ('William', 'Central st 954'),\n",
    "  ('Chuck', 'Main Road 989'),\n",
    "  ('Viola', 'Sideway 1633')\n",
    "]\n",
    "mycursor.executemany(sql,val)\n",
    "mydb.commit()\n",
    "print(mycursor.rowcount,\" was inserted\")"
   ]
  },
  {
   "cell_type": "code",
   "execution_count": 9,
   "metadata": {},
   "outputs": [
    {
     "name": "stdout",
     "output_type": "stream",
     "text": [
      "1 record(s) affected\n"
     ]
    }
   ],
   "source": [
    "mycursor=mydb.cursor()\n",
    "sql=\"UPDATE customers SET address='Canyon 123' WHERE address='valley 345'\"\n",
    "mycursor.execute(sql)\n",
    "mydb.commit()\n",
    "print(mycursor.rowcount, \"record(s) affected\")"
   ]
  },
  {
   "cell_type": "code",
   "execution_count": 10,
   "metadata": {},
   "outputs": [
    {
     "name": "stdout",
     "output_type": "stream",
     "text": [
      "1 record(s) affected\n"
     ]
    }
   ],
   "source": [
    "# prevent sql injection\n",
    "sql=\"UPDATE customers SET address=%s WHERE address=%s\"\n",
    "val=(\"valley 345\",\"Canyon 123\")\n",
    "mycursor.execute(sql,val)\n",
    "mydb.commit()\n",
    "print(mycursor.rowcount, \"record(s) affected\")"
   ]
  },
  {
   "cell_type": "markdown",
   "metadata": {},
   "source": [
    "# Limit"
   ]
  },
  {
   "cell_type": "code",
   "execution_count": 11,
   "metadata": {},
   "outputs": [
    {
     "name": "stdout",
     "output_type": "stream",
     "text": [
      "('Peter', 'Lowstreet 4')\n",
      "('Amy', 'Apple st 652')\n",
      "('Hannah', 'Mountain 21')\n",
      "('Michael', 'valley 345')\n",
      "('Sandy', 'Ocean blvd 2')\n"
     ]
    }
   ],
   "source": [
    "# we can limit the number of records returned from the query\n",
    "mycursor=mydb.cursor()\n",
    "mycursor.execute(\"SELECT * FROM customers LIMIT 5\")\n",
    "myresult=mycursor.fetchall()\n",
    "for x in myresult:\n",
    "    print(x)"
   ]
  },
  {
   "cell_type": "code",
   "execution_count": 12,
   "metadata": {},
   "outputs": [
    {
     "name": "stdout",
     "output_type": "stream",
     "text": [
      "('Hannah', 'Mountain 21')\n",
      "('Michael', 'valley 345')\n",
      "('Sandy', 'Ocean blvd 2')\n",
      "('Betty', 'Green Grass 1')\n",
      "('Richard', 'Sky st 331')\n"
     ]
    }
   ],
   "source": [
    "# if we need to start it from particular number use OFFSET\n",
    "mycursor=mydb.cursor()\n",
    "mycursor.execute(\"SELECT * FROM customers LIMIT 5 OFFSET 2\")\n",
    "myresult=mycursor.fetchall()\n",
    "for x in myresult:\n",
    "    print(x)"
   ]
  },
  {
   "cell_type": "markdown",
   "metadata": {},
   "source": [
    "# Join"
   ]
  },
  {
   "cell_type": "code",
   "execution_count": 14,
   "metadata": {},
   "outputs": [],
   "source": [
    "# create one users table\n",
    "mycursor=mydb.cursor()\n",
    "mycursor.execute(\"CREATE TABLE users (id INT AUTO_INCREMENT PRIMARY KEY, name VARCHAR(255), fav VARCHAR(255))\")"
   ]
  },
  {
   "cell_type": "code",
   "execution_count": 17,
   "metadata": {},
   "outputs": [
    {
     "name": "stdout",
     "output_type": "stream",
     "text": [
      "5  was inserted\n"
     ]
    }
   ],
   "source": [
    "# insert some details into that\n",
    "sql=\"INSERT INTO users(id,name,fav) VALUES (%s,%s,%s)\"\n",
    "val=[\n",
    "    ('1','John','154'),\n",
    "    ('2','Peter','154'),\n",
    "    ('3','Amy','155'),\n",
    "    ('4','Hannah','156' ),\n",
    "    ('5','Michael','156')\n",
    "    ]\n",
    "mycursor.executemany(sql,val)\n",
    "mydb.commit()\n",
    "print(mycursor.rowcount,\" was inserted\")"
   ]
  },
  {
   "cell_type": "code",
   "execution_count": 18,
   "metadata": {},
   "outputs": [],
   "source": [
    "# create one products table\n",
    "mycursor=mydb.cursor()\n",
    "mycursor.execute(\"CREATE TABLE products (id VARCHAR(255),name VARCHAR(255))\")"
   ]
  },
  {
   "cell_type": "code",
   "execution_count": 19,
   "metadata": {},
   "outputs": [
    {
     "name": "stdout",
     "output_type": "stream",
     "text": [
      "3  was inserted\n"
     ]
    }
   ],
   "source": [
    "sql=\"INSERT INTO products(id,name) VALUES (%s,%s)\"\n",
    "val=[\n",
    "    ('154','chocolate heaven'),\n",
    "    ('155','tasty lemons'),\n",
    "    ('156','vanilla dreams')\n",
    "    ]\n",
    "mycursor.executemany(sql,val)\n",
    "mydb.commit()\n",
    "print(mycursor.rowcount,\" was inserted\")"
   ]
  },
  {
   "cell_type": "code",
   "execution_count": 21,
   "metadata": {},
   "outputs": [],
   "source": [
    "# now using JOIN we will join these tables\n",
    "# using INNER JOIN AND JOIN will give the same results\n",
    "mycursor=mydb.cursor()\n",
    "\n",
    "sql=\"SELECT \\\n",
    "    users.name AS user, \\\n",
    "        products.name AS favorite \\\n",
    "            From users \\\n",
    "                INNER JOIN products ON users.fav=products.id\"\n",
    "mycursor.execute(sql)\n",
    "myresult=mycursor.fetchall()\n",
    "# for x in myresult():\n",
    "#     print(x)"
   ]
  },
  {
   "cell_type": "code",
   "execution_count": 22,
   "metadata": {},
   "outputs": [
    {
     "name": "stdout",
     "output_type": "stream",
     "text": [
      "[('John', 'chocolate heaven'), ('Peter', 'chocolate heaven'), ('Amy', 'tasty lemons'), ('Hannah', 'vanilla dreams'), ('Michael', 'vanilla dreams')]\n"
     ]
    }
   ],
   "source": [
    "print(myresult)"
   ]
  },
  {
   "cell_type": "code",
   "execution_count": 24,
   "metadata": {},
   "outputs": [
    {
     "name": "stdout",
     "output_type": "stream",
     "text": [
      "2  was inserted\n"
     ]
    }
   ],
   "source": [
    "# insert some details into that\n",
    "sql=\"INSERT INTO users(id,name,fav) VALUES (%s,%s,%s)\"\n",
    "val=[\n",
    "    ('6','teja',''),\n",
    "    ('7','surya','')\n",
    "    ]\n",
    "mycursor.executemany(sql,val)\n",
    "mydb.commit()\n",
    "print(mycursor.rowcount,\" was inserted\")"
   ]
  },
  {
   "cell_type": "code",
   "execution_count": 28,
   "metadata": {},
   "outputs": [
    {
     "name": "stdout",
     "output_type": "stream",
     "text": [
      "('John', 'chocolate heaven')\n",
      "('Peter', 'chocolate heaven')\n",
      "('Amy', 'tasty lemons')\n",
      "('Hannah', 'vanilla dreams')\n",
      "('Michael', 'vanilla dreams')\n"
     ]
    }
   ],
   "source": [
    "mycursor=mydb.cursor()\n",
    "\n",
    "sql=\"SELECT \\\n",
    "    users.name AS user, \\\n",
    "        products.name AS favorite \\\n",
    "            From users \\\n",
    "                INNER JOIN products ON users.fav=products.id\"\n",
    "mycursor.execute(sql)\n",
    "myresult=mycursor.fetchall()\n",
    "for x in myresult:\n",
    "    print(x)"
   ]
  },
  {
   "cell_type": "code",
   "execution_count": 27,
   "metadata": {},
   "outputs": [
    {
     "name": "stdout",
     "output_type": "stream",
     "text": [
      "('John', 'chocolate heaven')\n",
      "('Peter', 'chocolate heaven')\n",
      "('Amy', 'tasty lemons')\n",
      "('Hannah', 'vanilla dreams')\n",
      "('Michael', 'vanilla dreams')\n",
      "('teja', None)\n",
      "('surya', None)\n"
     ]
    }
   ],
   "source": [
    "# LEFT JOIN , used to get the details of the ones with no favourites\n",
    "sql = \"SELECT \\\n",
    "  users.name AS user, \\\n",
    "  products.name AS favorite \\\n",
    "  FROM users \\\n",
    "  LEFT JOIN products ON users.fav = products.id\"\n",
    "mycursor.execute(sql)\n",
    "myresult=mycursor.fetchall()\n",
    "for x in myresult:\n",
    "    print(x)"
   ]
  },
  {
   "cell_type": "code",
   "execution_count": 29,
   "metadata": {},
   "outputs": [
    {
     "name": "stdout",
     "output_type": "stream",
     "text": [
      "('Peter', 'chocolate heaven')\n",
      "('John', 'chocolate heaven')\n",
      "('Amy', 'tasty lemons')\n",
      "('Michael', 'vanilla dreams')\n",
      "('Hannah', 'vanilla dreams')\n"
     ]
    }
   ],
   "source": [
    "# RIGHT JOIN , used to get the details of the users who have favourites \n",
    "sql = \"SELECT \\\n",
    "  users.name AS user, \\\n",
    "  products.name AS favorite \\\n",
    "  FROM users \\\n",
    "  RIGHT JOIN products ON users.fav = products.id\"\n",
    "\n",
    "mycursor.execute(sql)\n",
    "myresult=mycursor.fetchall()\n",
    "for x in myresult:\n",
    "    print(x)"
   ]
  }
 ],
 "metadata": {
  "kernelspec": {
   "display_name": "Python 3",
   "language": "python",
   "name": "python3"
  },
  "language_info": {
   "codemirror_mode": {
    "name": "ipython",
    "version": 3
   },
   "file_extension": ".py",
   "mimetype": "text/x-python",
   "name": "python",
   "nbconvert_exporter": "python",
   "pygments_lexer": "ipython3",
   "version": "3.9.5"
  }
 },
 "nbformat": 4,
 "nbformat_minor": 2
}
