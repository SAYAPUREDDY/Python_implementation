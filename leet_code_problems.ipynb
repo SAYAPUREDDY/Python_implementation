{
 "cells": [
  {
   "cell_type": "markdown",
   "metadata": {},
   "source": [
    "1. You are given two integer arrays nums1 and nums2, sorted in non-decreasing order, and two integers m and n, representing the number of elements in nums1 and nums2 respectively.\n",
    "- Merge nums1 and nums2 into a single array sorted in non-decreasing order.\n",
    "- The final sorted array should not be returned by the function, but instead be stored inside the array nums1. To accommodate this, nums1 has a length of m + n, where the first m elements denote the elements that should be merged, and the last n elements are set to 0 and should be ignored. nums2 has a length of n"
   ]
  },
  {
   "cell_type": "code",
   "execution_count": 1,
   "metadata": {},
   "outputs": [
    {
     "name": "stdout",
     "output_type": "stream",
     "text": [
      "[1, 2, 2, 3, 5, 6]\n"
     ]
    }
   ],
   "source": [
    "def merge(nums1,nums2,m,n):\n",
    "    nums1 = nums1[:m]\n",
    "    #print(nums1)\n",
    "    nums2 = nums2[:n]\n",
    "    newarr = nums1+nums2\n",
    "    newarr.sort()\n",
    "    return newarr\n",
    "\n",
    "nums1 = [1,2,3,0,0,0]\n",
    "m=3\n",
    "n=3\n",
    "nums2 = [2,5,6]\n",
    "print(merge(nums1,nums2,m,n))"
   ]
  },
  {
   "cell_type": "markdown",
   "metadata": {},
   "source": [
    "2. Given an integer array nums and an integer val, remove all occurrences of val in nums in-place. The order of the elements may be changed. Then return the number of elements in nums which are not equal to val.\n",
    "\n",
    "Consider the number of elements in nums which are not equal to val be k, to get accepted, you need to do the following things:\n",
    "\n",
    "- Change the array nums such that the first k elements of nums contain the elements which are not equal to val. The remaining elements of nums are not important as well as the size of nums.\n",
    "- Return k."
   ]
  },
  {
   "cell_type": "code",
   "execution_count": 15,
   "metadata": {},
   "outputs": [
    {
     "name": "stdout",
     "output_type": "stream",
     "text": [
      "the k=2 and output array is [2, 2]\n",
      "the k=5 and output array is [0, 0, 1, 3, 4]\n"
     ]
    }
   ],
   "source": [
    "def remove_element(nums,val):\n",
    "    for i in nums[:]:\n",
    "        if i==val:\n",
    "            nums.remove(val)\n",
    "            nums.sort()\n",
    "            k=len(nums)\n",
    "    return f\"the k={k} and output array is {nums}\"\n",
    "# example case 1\n",
    "nums=[3,2,2,3]\n",
    "val=3\n",
    "print(remove_element(nums,val))\n",
    "# example case 2\n",
    "nums=[0,1,2,2,3,0,4,2]\n",
    "val=2\n",
    "print(remove_element(nums,val))"
   ]
  },
  {
   "cell_type": "markdown",
   "metadata": {},
   "source": [
    "3. Given an integer array nums sorted in non-decreasing order, remove the duplicates in-place such that each unique element appears only once. The relative order of the elements should be kept the same. Then return the number of unique elements in nums.\n",
    "\n",
    "Consider the number of unique elements of nums to be k, to get accepted, you need to do the following things:\n",
    "\n",
    "- Change the array nums such that the first k elements of nums contain the unique elements in the order they were present in nums initially. The remaining elements of nums are not important as well as the size of nums.\n",
    "- Return k."
   ]
  },
  {
   "cell_type": "code",
   "execution_count": 17,
   "metadata": {},
   "outputs": [
    {
     "name": "stdout",
     "output_type": "stream",
     "text": [
      "the k=2 and output array is {1, 2}\n",
      "the k=5 and output array is {0, 1, 2, 3, 4}\n"
     ]
    }
   ],
   "source": [
    "def remove_duplicates(nums):\n",
    "    if nums:\n",
    "        nums_new=set(nums)\n",
    "        k=len(nums_new)\n",
    "    return f\"the k={k} and output array is {nums_new}\"\n",
    "#example 1\n",
    "nums=[1,1,2]\n",
    "print(remove_duplicates(nums))\n",
    "\n",
    "#example 2\n",
    "nums=[0,0,1,1,1,2,2,3,3,4]\n",
    "print(remove_duplicates(nums))\n",
    "\n"
   ]
  },
  {
   "cell_type": "markdown",
   "metadata": {},
   "source": [
    "4. Given an integer array nums sorted in non-decreasing order, remove some duplicates in-place such that each unique element appears at most twice. The relative order of the elements should be kept the same.\n",
    "\n",
    "Since it is impossible to change the length of the array in some languages, you must instead have the result be placed in the first part of the array nums. More formally, if there are k elements after removing the duplicates, then the first k elements of nums should hold the final result. It does not matter what you leave beyond the first k elements.\n",
    "\n",
    "Return k after placing the final result in the first k slots of nums"
   ]
  },
  {
   "cell_type": "code",
   "execution_count": 20,
   "metadata": {},
   "outputs": [
    {
     "name": "stdout",
     "output_type": "stream",
     "text": [
      "k=5 and [1, 1, 2, 2, 3]\n",
      "k=7 and [0, 0, 1, 1, 2, 3, 3]\n"
     ]
    }
   ],
   "source": [
    "def remove_duplicates_two(nums):\n",
    "    \n",
    "    for x in nums :\n",
    "        count=nums.count(x)\n",
    "        if count>2:\n",
    "            nums.remove(x)\n",
    "            nums.sort()\n",
    "            k=len(nums)\n",
    "    return f\"k={k} and {nums}\"\n",
    "# example\n",
    "nums=[1,1,1,2,2,3]\n",
    "print(remove_duplicates_two(nums))\n",
    "nums=[0,0,1,1,1,1,2,3,3]\n",
    "print(remove_duplicates_two(nums))"
   ]
  },
  {
   "cell_type": "markdown",
   "metadata": {},
   "source": [
    "5. Given an array nums of size n, return the majority element.\n",
    "\n",
    "The majority element is the element that appears more than ⌊n / 2⌋ times. You may assume that the majority element always exists in the array"
   ]
  },
  {
   "cell_type": "code",
   "execution_count": 22,
   "metadata": {},
   "outputs": [
    {
     "name": "stdout",
     "output_type": "stream",
     "text": [
      "3\n",
      "2\n"
     ]
    }
   ],
   "source": [
    "def majority_element(nums):\n",
    "    n=len(nums)\n",
    "    total_count=n/2\n",
    "    for x in nums:\n",
    "        count=nums.count(x)\n",
    "        if count>=total_count:\n",
    "            ma_ele=x\n",
    "    return ma_ele\n",
    "\n",
    "#example1\n",
    "nums=[3,2,3]\n",
    "print(majority_element(nums))\n",
    "#example2\n",
    "nums=[2,2,1,1,1,2,2]\n",
    "print(majority_element(nums))"
   ]
  },
  {
   "cell_type": "markdown",
   "metadata": {},
   "source": [
    "6. Given an integer array nums, rotate the array to the right by k steps, where k is non-negative. "
   ]
  },
  {
   "cell_type": "code",
   "execution_count": 29,
   "metadata": {},
   "outputs": [
    {
     "name": "stdout",
     "output_type": "stream",
     "text": [
      "3\n"
     ]
    }
   ],
   "source": [
    "x=3\n",
    "y=7\n",
    "print(x%y)"
   ]
  },
  {
   "cell_type": "code",
   "execution_count": 33,
   "metadata": {},
   "outputs": [
    {
     "name": "stdout",
     "output_type": "stream",
     "text": [
      "[5, 6, 7, 1, 2, 3, 4]\n",
      "[3, 99, -1, -100]\n"
     ]
    }
   ],
   "source": [
    "def rotate(nums, k):\n",
    "    n = len(nums)\n",
    "    k %= n \n",
    "    nums.reverse()\n",
    "    nums[:k] = reversed(nums[:k])\n",
    "    nums[k:] = reversed(nums[k:])\n",
    "    return nums\n",
    "\n",
    "# example\n",
    "nums = [1, 2, 3, 4, 5, 6, 7]\n",
    "k = 3\n",
    "print(rotate(nums, k))\n",
    "# example 2\n",
    "nums=[-1,-100,3,99]\n",
    "k=2\n",
    "print(rotate(nums,k))\n"
   ]
  },
  {
   "cell_type": "markdown",
   "metadata": {},
   "source": [
    "7. You are given an array prices where prices[i] is the price of a given stock on the ith day.\n",
    "\n",
    "You want to maximize your profit by choosing a single day to buy one stock and choosing a different day in the future to sell that stock.\n",
    "\n",
    "Return the maximum profit you can achieve from this transaction. If you cannot achieve any profit, return 0"
   ]
  },
  {
   "cell_type": "code",
   "execution_count": 5,
   "metadata": {},
   "outputs": [
    {
     "name": "stdout",
     "output_type": "stream",
     "text": [
      "5\n",
      "0\n",
      "3\n"
     ]
    }
   ],
   "source": [
    "def buy_sell_stocks(prices):\n",
    "    min_price=float('inf')\n",
    "    max_profit=0\n",
    "    for price in prices:\n",
    "        if price<min_price:\n",
    "           min_price=price\n",
    "        total_profit=price-min_price\n",
    "        if total_profit>max_profit:\n",
    "            max_profit=total_profit\n",
    "    return max_profit\n",
    "#example 1\n",
    "prices=[7, 1, 5, 3, 6, 4]\n",
    "print(buy_sell_stocks(prices))\n",
    "\n",
    "#example 2\n",
    "prices=[7,6,4,3,1]\n",
    "print(buy_sell_stocks(prices))\n",
    "\n",
    "prices=[7,10]\n",
    "print(buy_sell_stocks(prices))\n",
    "\n",
    "\n",
    "\n"
   ]
  }
 ],
 "metadata": {
  "kernelspec": {
   "display_name": "Python 3",
   "language": "python",
   "name": "python3"
  },
  "language_info": {
   "codemirror_mode": {
    "name": "ipython",
    "version": 3
   },
   "file_extension": ".py",
   "mimetype": "text/x-python",
   "name": "python",
   "nbconvert_exporter": "python",
   "pygments_lexer": "ipython3",
   "version": "3.9.5"
  }
 },
 "nbformat": 4,
 "nbformat_minor": 2
}
