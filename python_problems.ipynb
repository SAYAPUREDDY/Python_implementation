{
 "cells": [
  {
   "cell_type": "markdown",
   "metadata": {},
   "source": [
    "1. You are given two integer arrays nums1 and nums2, sorted in non-decreasing order, and two integers m and n, representing the number of elements in nums1 and nums2 respectively.\n",
    "- Merge nums1 and nums2 into a single array sorted in non-decreasing order.\n",
    "- The final sorted array should not be returned by the function, but instead be stored inside the array nums1. To accommodate this, nums1 has a length of m + n, where the first m elements denote the elements that should be merged, and the last n elements are set to 0 and should be ignored. nums2 has a length of n"
   ]
  },
  {
   "cell_type": "code",
   "execution_count": 4,
   "metadata": {},
   "outputs": [
    {
     "name": "stdout",
     "output_type": "stream",
     "text": [
      "[1, 2, 3]\n",
      "[1, 2, 2, 3, 5, 6]\n"
     ]
    }
   ],
   "source": [
    "def merge(nums1,nums2,m,n):\n",
    "    nums1 = nums1[:m]\n",
    "    print(nums1)\n",
    "    nums2 = nums2[:n]\n",
    "    newarr = nums1+nums2\n",
    "    newarr.sort()\n",
    "    return newarr\n",
    "\n",
    "nums1 = [1,2,3,0,0,0]\n",
    "m=3\n",
    "n=3\n",
    "nums2 = [2,5,6]\n",
    "print(merge(nums1,nums2,m,n))"
   ]
  },
  {
   "cell_type": "markdown",
   "metadata": {},
   "source": [
    "# Excercise 1\n",
    "Create a program that asks the user to enter their name and their age. Print out a message addressed to them that tells them the year that they will turn 100 years old. Note: for this exercise, the expectation is that you explicitly write out the year (and therefore be out of date the next year). If you want to do this in a generic way, see exercise 39.\n",
    "\n",
    "Extras:\n",
    "- Add on to the previous program by asking the user for another number and printing out that many copies of the previous message. (Hint: order of operations exists in Python)\n",
    "- Print out that many copies of the previous message on separate lines. (Hint: the string \"\\n is the same as pressing the ENTER button)"
   ]
  },
  {
   "cell_type": "code",
   "execution_count": 19,
   "metadata": {},
   "outputs": [
    {
     "name": "stdout",
     "output_type": "stream",
     "text": [
      "surya \n",
      "23\n",
      "the age for surya  after 100 years is 2101\n"
     ]
    }
   ],
   "source": [
    "import datetime\n",
    "def updatedage(age,name):\n",
    "    remaining_years=100-age\n",
    "    current_year=datetime.datetime.now().year\n",
    "    future_year=current_year+remaining_years\n",
    "    return(f\"the age for {name} after 100 years is {future_year}\")\n",
    "name=input(\"Enter your name:\")\n",
    "age = int(input(\"Enter the age:\"))\n",
    "print(name)\n",
    "print(age)\n",
    "print(updatedage(age,name))\n"
   ]
  },
  {
   "cell_type": "markdown",
   "metadata": {},
   "source": [
    "# Excercise 2\n",
    "The exercise comes first (with a few extras if you want the extra challenge or want to spend more time), followed by a discussion. Enjoy!\n",
    "\n",
    "Ask the user for a number. Depending on whether the number is even or odd, print out an appropriate message to the user. Hint: how does an even / odd number react differently when divided by 2?\n",
    "\n",
    "Extras:\n",
    "\n",
    "- If the number is a multiple of 4, print out a different message.\n",
    "- Ask the user for two numbers: one number to check (call it num) and one number to divide by (check). If check divides evenly into num, tell that to the user. If not, print a different appropriate message"
   ]
  },
  {
   "cell_type": "code",
   "execution_count": 35,
   "metadata": {},
   "outputs": [
    {
     "name": "stdout",
     "output_type": "stream",
     "text": [
      "6\n",
      "2\n",
      "6 is even\n",
      "6 is divisable by 2\n"
     ]
    }
   ],
   "source": [
    "num=int(input(\"give the number:\"))\n",
    "print(num)\n",
    "check=int(input(\"number to divide the num:\"))\n",
    "print(check)\n",
    "def oddoreven(num,check):\n",
    "    out = {\"divisability\":False}\n",
    "    if num%2==0:\n",
    "        out[\"type\"] = \"even\"\n",
    "    else:\n",
    "        out[\"type\"] = \"odd\"\n",
    "    if num%check==0:\n",
    "       out[\"divisability\"] = True\n",
    "    return out\n",
    "\n",
    "oddorevencheck = oddoreven(num,check)\n",
    "if oddorevencheck[\"type\"]==\"even\":\n",
    "    print(f\"{num} is even\")\n",
    "else:\n",
    "    print(f\"{num} is odd\")\n",
    "if oddorevencheck[\"divisability\"]==True:\n",
    "    print(f\"{num} is divisable by {check}\")\n",
    "else:\n",
    "    print(f\"{num} is not divisable by {check}\")\n",
    "\n",
    "\n",
    "\n"
   ]
  },
  {
   "cell_type": "markdown",
   "metadata": {},
   "source": [
    "# Excercise 3\n",
    "Take a list, say for example this one:\n",
    "\n",
    "  a = [1, 1, 2, 3, 5, 8, 13, 21, 34, 55, 89]\n",
    "and write a program that prints out all the elements of the list that are less than 5.\n",
    "\n",
    "Extras:\n",
    "\n",
    "- Instead of printing the elements one by one, make a new list that has all the elements less than 5 from this list in it and print out this new list.\n",
    "- Ask the user for a number and return a list that contains only elements from the original list a that are smaller than that number given by the user.\n",
    "\n"
   ]
  },
  {
   "cell_type": "code",
   "execution_count": 45,
   "metadata": {},
   "outputs": [
    {
     "name": "stdout",
     "output_type": "stream",
     "text": [
      "[10, 1, 12, 3, 4, 14]\n",
      "[1, 3, 4]\n"
     ]
    }
   ],
   "source": [
    "my_list=[]\n",
    "n=int(input(\"number of elements\"))\n",
    "\n",
    "for i in range(0,n):\n",
    "    elements=int(input())\n",
    "    my_list.append(elements)\n",
    "print(my_list)\n",
    "\n",
    "def function(my_list,n):\n",
    "    new_list=[]\n",
    "    for x in my_list[:n]:\n",
    "        if x<5:\n",
    "            new_list.append(x)\n",
    "    return new_list\n",
    "print(function(my_list,n))            "
   ]
  },
  {
   "cell_type": "markdown",
   "metadata": {},
   "source": [
    "# Excercise 4\n",
    "Create a program that asks the user for a number and then prints out a list of all the divisors of that number. (If you don’t know what a divisor is, it is a number that divides evenly into another number. For example, 13 is a divisor of 26 because 26 / 13 has no remainder.)\n"
   ]
  },
  {
   "cell_type": "code",
   "execution_count": 5,
   "metadata": {},
   "outputs": [
    {
     "name": "stdout",
     "output_type": "stream",
     "text": [
      "[100, 200, 300, 400, 500, 600, 700, 800, 900]\n"
     ]
    }
   ],
   "source": [
    "num=int(input(\"enter the number\"))\n",
    "def divisors(num):\n",
    "    lst=[]\n",
    "    for i in range(1,1000):\n",
    "        if i%num==0:\n",
    "            lst.append(i)\n",
    "    return lst\n",
    "print(divisors(num))"
   ]
  },
  {
   "cell_type": "markdown",
   "metadata": {},
   "source": [
    "# Excercise 5\n",
    "Take two lists,and write a program that returns a list that contains only the elements that are common between the lists (without duplicates). Make sure your program works on two lists of different sizes.\n"
   ]
  },
  {
   "cell_type": "code",
   "execution_count": 4,
   "metadata": {},
   "outputs": [
    {
     "name": "stdout",
     "output_type": "stream",
     "text": [
      "[1, 2, 3, 4, 5]\n",
      "[2, 3, 5, 7, 3, 4, 5, 8]\n",
      "[2, 3, 4, 5]\n"
     ]
    }
   ],
   "source": [
    "lst_one = list(map(int,input().split()))\n",
    "print(lst_one)\n",
    "lst_two = list(map(int,input().split()))\n",
    "print(lst_two)\n",
    "\n",
    "def common(lst_one,lst_two):\n",
    "    new_lst=[]\n",
    "    for x in lst_one:\n",
    "        if x in lst_two:\n",
    "            new_lst.append(x)\n",
    "    return new_lst\n",
    "print(common(lst_one,lst_two))\n"
   ]
  }
 ],
 "metadata": {
  "kernelspec": {
   "display_name": "Python 3",
   "language": "python",
   "name": "python3"
  },
  "language_info": {
   "codemirror_mode": {
    "name": "ipython",
    "version": 3
   },
   "file_extension": ".py",
   "mimetype": "text/x-python",
   "name": "python",
   "nbconvert_exporter": "python",
   "pygments_lexer": "ipython3",
   "version": "3.9.5"
  }
 },
 "nbformat": 4,
 "nbformat_minor": 2
}
