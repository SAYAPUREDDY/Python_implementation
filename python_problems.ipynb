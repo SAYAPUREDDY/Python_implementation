{
 "cells": [
  {
   "cell_type": "markdown",
   "metadata": {},
   "source": [
    "1. You are given two integer arrays nums1 and nums2, sorted in non-decreasing order, and two integers m and n, representing the number of elements in nums1 and nums2 respectively.\n",
    "- Merge nums1 and nums2 into a single array sorted in non-decreasing order.\n",
    "- The final sorted array should not be returned by the function, but instead be stored inside the array nums1. To accommodate this, nums1 has a length of m + n, where the first m elements denote the elements that should be merged, and the last n elements are set to 0 and should be ignored. nums2 has a length of n"
   ]
  },
  {
   "cell_type": "code",
   "execution_count": 4,
   "metadata": {},
   "outputs": [
    {
     "name": "stdout",
     "output_type": "stream",
     "text": [
      "[1, 2, 3]\n",
      "[1, 2, 2, 3, 5, 6]\n"
     ]
    }
   ],
   "source": [
    "def merge(nums1,nums2,m,n):\n",
    "    nums1 = nums1[:m]\n",
    "    print(nums1)\n",
    "    nums2 = nums2[:n]\n",
    "    newarr = nums1+nums2\n",
    "    newarr.sort()\n",
    "    return newarr\n",
    "\n",
    "nums1 = [1,2,3,0,0,0]\n",
    "m=3\n",
    "n=3\n",
    "nums2 = [2,5,6]\n",
    "print(merge(nums1,nums2,m,n))"
   ]
  },
  {
   "cell_type": "markdown",
   "metadata": {},
   "source": [
    "# Excercise 1\n",
    "Create a program that asks the user to enter their name and their age. Print out a message addressed to them that tells them the year that they will turn 100 years old. Note: for this exercise, the expectation is that you explicitly write out the year (and therefore be out of date the next year). If you want to do this in a generic way, see exercise 39.\n",
    "\n",
    "Extras:\n",
    "- Add on to the previous program by asking the user for another number and printing out that many copies of the previous message. (Hint: order of operations exists in Python)\n",
    "- Print out that many copies of the previous message on separate lines. (Hint: the string \"\\n is the same as pressing the ENTER button)"
   ]
  },
  {
   "cell_type": "code",
   "execution_count": 19,
   "metadata": {},
   "outputs": [
    {
     "name": "stdout",
     "output_type": "stream",
     "text": [
      "surya \n",
      "23\n",
      "the age for surya  after 100 years is 2101\n"
     ]
    }
   ],
   "source": [
    "import datetime\n",
    "def updatedage(age,name):\n",
    "    remaining_years=100-age\n",
    "    current_year=datetime.datetime.now().year\n",
    "    future_year=current_year+remaining_years\n",
    "    return(f\"the age for {name} after 100 years is {future_year}\")\n",
    "name=input(\"Enter your name:\")\n",
    "age = int(input(\"Enter the age:\"))\n",
    "print(name)\n",
    "print(age)\n",
    "print(updatedage(age,name))\n"
   ]
  },
  {
   "cell_type": "markdown",
   "metadata": {},
   "source": [
    "# Excercise 2\n",
    "The exercise comes first (with a few extras if you want the extra challenge or want to spend more time), followed by a discussion. Enjoy!\n",
    "\n",
    "Ask the user for a number. Depending on whether the number is even or odd, print out an appropriate message to the user. Hint: how does an even / odd number react differently when divided by 2?\n",
    "\n",
    "Extras:\n",
    "\n",
    "- If the number is a multiple of 4, print out a different message.\n",
    "- Ask the user for two numbers: one number to check (call it num) and one number to divide by (check). If check divides evenly into num, tell that to the user. If not, print a different appropriate message"
   ]
  },
  {
   "cell_type": "code",
   "execution_count": 35,
   "metadata": {},
   "outputs": [
    {
     "name": "stdout",
     "output_type": "stream",
     "text": [
      "6\n",
      "2\n",
      "6 is even\n",
      "6 is divisable by 2\n"
     ]
    }
   ],
   "source": [
    "num=int(input(\"give the number:\"))\n",
    "print(num)\n",
    "check=int(input(\"number to divide the num:\"))\n",
    "print(check)\n",
    "def oddoreven(num,check):\n",
    "    out = {\"divisability\":False}\n",
    "    if num%2==0:\n",
    "        out[\"type\"] = \"even\"\n",
    "    else:\n",
    "        out[\"type\"] = \"odd\"\n",
    "    if num%check==0:\n",
    "       out[\"divisability\"] = True\n",
    "    return out\n",
    "\n",
    "oddorevencheck = oddoreven(num,check)\n",
    "if oddorevencheck[\"type\"]==\"even\":\n",
    "    print(f\"{num} is even\")\n",
    "else:\n",
    "    print(f\"{num} is odd\")\n",
    "if oddorevencheck[\"divisability\"]==True:\n",
    "    print(f\"{num} is divisable by {check}\")\n",
    "else:\n",
    "    print(f\"{num} is not divisable by {check}\")\n",
    "\n",
    "\n",
    "\n"
   ]
  },
  {
   "cell_type": "markdown",
   "metadata": {},
   "source": [
    "# Excercise 3\n",
    "Take a list, say for example this one:\n",
    "\n",
    "  a = [1, 1, 2, 3, 5, 8, 13, 21, 34, 55, 89]\n",
    "and write a program that prints out all the elements of the list that are less than 5.\n",
    "\n",
    "Extras:\n",
    "\n",
    "- Instead of printing the elements one by one, make a new list that has all the elements less than 5 from this list in it and print out this new list.\n",
    "- Ask the user for a number and return a list that contains only elements from the original list a that are smaller than that number given by the user.\n",
    "\n"
   ]
  },
  {
   "cell_type": "code",
   "execution_count": 45,
   "metadata": {},
   "outputs": [
    {
     "name": "stdout",
     "output_type": "stream",
     "text": [
      "[10, 1, 12, 3, 4, 14]\n",
      "[1, 3, 4]\n"
     ]
    }
   ],
   "source": [
    "my_list=[]\n",
    "n=int(input(\"number of elements\"))\n",
    "\n",
    "for i in range(0,n):\n",
    "    elements=int(input())\n",
    "    my_list.append(elements)\n",
    "print(my_list)\n",
    "\n",
    "def function(my_list,n):\n",
    "    new_list=[]\n",
    "    for x in my_list[:n]:\n",
    "        if x<5:\n",
    "            new_list.append(x)\n",
    "    return new_list\n",
    "print(function(my_list,n))            "
   ]
  },
  {
   "cell_type": "markdown",
   "metadata": {},
   "source": [
    "# Excercise 4\n",
    "Create a program that asks the user for a number and then prints out a list of all the divisors of that number. (If you don’t know what a divisor is, it is a number that divides evenly into another number. For example, 13 is a divisor of 26 because 26 / 13 has no remainder.)\n"
   ]
  },
  {
   "cell_type": "code",
   "execution_count": 2,
   "metadata": {},
   "outputs": [
    {
     "name": "stdout",
     "output_type": "stream",
     "text": [
      "[100, 200, 300, 400, 500, 600, 700, 800, 900]\n"
     ]
    }
   ],
   "source": [
    "num=int(input(\"enter the number\"))\n",
    "def divisors(num):\n",
    "    lst=[]\n",
    "    for i in range(1,1000):\n",
    "        if i%num==0:\n",
    "            lst.append(i)\n",
    "    return lst\n",
    "print(divisors(num))"
   ]
  },
  {
   "cell_type": "markdown",
   "metadata": {},
   "source": [
    "# Excercise 5\n",
    "Take two lists,and write a program that returns a list that contains only the elements that are common between the lists (without duplicates). Make sure your program works on two lists of different sizes.\n"
   ]
  },
  {
   "cell_type": "code",
   "execution_count": 4,
   "metadata": {},
   "outputs": [
    {
     "name": "stdout",
     "output_type": "stream",
     "text": [
      "[1, 2, 3, 4, 5]\n",
      "[2, 3, 5, 7, 3, 4, 5, 8]\n",
      "[2, 3, 4, 5]\n"
     ]
    }
   ],
   "source": [
    "lst_one = list(map(int,input().split()))\n",
    "print(lst_one)\n",
    "lst_two = list(map(int,input().split()))\n",
    "print(lst_two)\n",
    "\n",
    "def common(lst_one,lst_two):\n",
    "    new_lst=[]\n",
    "    for x in lst_one:\n",
    "        if x in lst_two:\n",
    "            new_lst.append(x)\n",
    "    return new_lst\n",
    "print(common(lst_one,lst_two))\n"
   ]
  },
  {
   "cell_type": "markdown",
   "metadata": {},
   "source": [
    "# Excercise 6\n",
    "Ask the user for a string and print out whether this string is a palindrome or not. (A palindrome is a string that reads the same forwards and backwards.)"
   ]
  },
  {
   "cell_type": "code",
   "execution_count": 17,
   "metadata": {},
   "outputs": [
    {
     "name": "stdout",
     "output_type": "stream",
     "text": [
      "{'palindrome': True}\n",
      "malayalam is a palindrome\n"
     ]
    }
   ],
   "source": [
    "x=str(input())\n",
    "w=\"\"\n",
    "def palindrome(x,w):\n",
    "    output={\"palindrome\":False}\n",
    "    for i in x:\n",
    "        #this builds the string in the reverse order \n",
    "        w=i+w\n",
    "        #print(w)\n",
    "    if (x==w):\n",
    "        output={\"palindrome\":True}\n",
    "    return output\n",
    "    \n",
    "palindrome_check=palindrome(x,w)\n",
    "print(palindrome_check)\n",
    "if palindrome_check[\"palindrome\"]==True:\n",
    "    print(f\"{x} is a palindrome\")\n",
    "else:\n",
    "    print(f\"{x} is not a palindrome\")\n",
    "        \n"
   ]
  },
  {
   "cell_type": "markdown",
   "metadata": {},
   "source": [
    "# Excercise 7\n",
    "Let’s say I give you a list saved in a variable: a = [1, 4, 9, 16, 25, 36, 49, 64, 81, 100]. Write one line of Python that takes this list a and makes a new list that has only the even elements of this list in it."
   ]
  },
  {
   "cell_type": "code",
   "execution_count": 21,
   "metadata": {},
   "outputs": [
    {
     "name": "stdout",
     "output_type": "stream",
     "text": [
      "[4, 16, 36, 64, 100]\n"
     ]
    }
   ],
   "source": [
    "a=[1,4,9,16,25,36,49,64,81,100]\n",
    "b=[number for number in a if number%2==0]\n",
    "print(b)"
   ]
  },
  {
   "cell_type": "code",
   "execution_count": 20,
   "metadata": {},
   "outputs": [
    {
     "name": "stdout",
     "output_type": "stream",
     "text": [
      "[4, 16, 36, 64, 100]\n"
     ]
    }
   ],
   "source": [
    "a=[1,4,9,16,25,36,49,64,81,100]\n",
    "def function(a):\n",
    "    lst=[]\n",
    "    for i in a:\n",
    "         if (i%2==0):\n",
    "             lst.append(i)\n",
    "    return lst\n",
    "\n",
    "print(function(a))"
   ]
  },
  {
   "cell_type": "markdown",
   "metadata": {},
   "source": [
    "# Excercise 8\n",
    "Make a two-player Rock-Paper-Scissors game. (Hint: Ask for player plays (using input), compare them, print out a message of congratulations to the winner, and ask if the players want to start a new game)\n",
    "Remember the rules:\n",
    "- Rock beats scissors\n",
    "- Scissors beats paper\n",
    "- Paper beats rock"
   ]
  },
  {
   "cell_type": "code",
   "execution_count": 3,
   "metadata": {},
   "outputs": [
    {
     "name": "stdout",
     "output_type": "stream",
     "text": [
      "rock wins\n"
     ]
    }
   ],
   "source": [
    "import sys\n",
    "player1 = input(\"choose your call\")\n",
    "player2 = input(\"choose your call\")\n",
    "def game(player1,player2):\n",
    "    if player1==player2:\n",
    "        return (\"Tie\")\n",
    "    elif player1==\"rock\":\n",
    "        if player2==\"scissors\":\n",
    "            return(\"rock wins\")\n",
    "        else:\n",
    "            return(\"paper wins\")\n",
    "    elif player1==\"scissors\":\n",
    "        if player2==\"paper\":\n",
    "            return(\"scissors wins\")\n",
    "        else:\n",
    "            return(\"rock wins\")\n",
    "    elif player1==\"paper\":\n",
    "        if player2==\"rock\":\n",
    "            return(\"paper wins\")\n",
    "        else:\n",
    "            return(\"scissors win\")\n",
    "    else:\n",
    "        return(\"choose one in rock,paper and scissors,try again\")\n",
    "        sys.exit()\n",
    "print(game(player1,player2))\n"
   ]
  },
  {
   "cell_type": "markdown",
   "metadata": {},
   "source": [
    "# Excercise 9\n",
    "Generate a random number between 1 and 9 (including 1 and 9). Ask the user to guess the number, then tell them whether they guessed too low, too high, or exactly right"
   ]
  },
  {
   "cell_type": "code",
   "execution_count": 16,
   "metadata": {},
   "outputs": [
    {
     "name": "stdout",
     "output_type": "stream",
     "text": [
      "welcome to guessing game\n",
      "too low try again\n",
      "too low try again\n",
      "too low try again\n",
      "too low try again\n",
      "too low try again\n",
      "too low try again\n",
      "too low try again\n",
      "too high try again\n",
      "too high try again\n",
      "too high try again\n",
      "out of chances. the number is 704\n"
     ]
    }
   ],
   "source": [
    "import random\n",
    "lower_limit=1\n",
    "upper_limit=1000\n",
    "max_chances=10\n",
    "number=random.randint(lower_limit,upper_limit)\n",
    "\n",
    "def get_guess():\n",
    "    while True:\n",
    "        try:\n",
    "            guess=int(input(f\"guess the number between {lower_limit} and {upper_limit}\"))\n",
    "            if lower_limit<=guess<=upper_limit:\n",
    "                return guess\n",
    "            else:\n",
    "                print(\"choose between the limits\")\n",
    "        except ValueError:\n",
    "            print(\"invalid number\")\n",
    "\n",
    "def guess_game(guess,number):\n",
    "    if guess==number:\n",
    "        return(\"correct\")\n",
    "    elif guess>number:\n",
    "        return(\"too high\")\n",
    "    else:\n",
    "        return(\"too low\")\n",
    "\n",
    "def play_game():\n",
    "    chances=0\n",
    "    won=False\n",
    "\n",
    "    while chances<max_chances:\n",
    "        chances+=1\n",
    "        guess=get_guess()\n",
    "        result=guess_game(guess,number)\n",
    "        if result==\"correct\":\n",
    "            print(f\"congratulations u have guessed the {number} in {chances} attempts\")\n",
    "            won=True\n",
    "            break\n",
    "        else:\n",
    "            print(f\"{result} try again\")\n",
    "    if not won:\n",
    "        print(f\"out of chances. the number is {number}\")\n",
    "if __name__==\"__main__\":\n",
    "    print(\"welcome to guessing game\")\n",
    "    play_game()\n"
   ]
  },
  {
   "cell_type": "markdown",
   "metadata": {},
   "source": [
    "# Excercise 10 \n",
    "Ask the user for a number and determine whether the number is prime or not."
   ]
  },
  {
   "cell_type": "code",
   "execution_count": 21,
   "metadata": {},
   "outputs": [
    {
     "name": "stdout",
     "output_type": "stream",
     "text": [
      "It is prime number\n"
     ]
    }
   ],
   "source": [
    "lower_limit=1\n",
    "upper_limit=1000\n",
    "\n",
    "def get_number():\n",
    "    while True:\n",
    "        try:\n",
    "            num=int(input(f\"choose the number between {lower_limit} and {upper_limit}\"))\n",
    "            if lower_limit<=num<=upper_limit:\n",
    "                return num\n",
    "            else:\n",
    "                print(\"choose between limits\")\n",
    "        except ValueError:\n",
    "            print(\"Invalid\")\n",
    "\n",
    "def find_divi():\n",
    "    num=get_number()\n",
    "    divi=[]\n",
    "    for i in range(lower_limit,upper_limit):\n",
    "        if num%i==0:\n",
    "            divi.append(i)\n",
    "    return divi\n",
    "\n",
    "def prime_number():\n",
    "    divi=find_divi()\n",
    "    if int(len(divi))<=2:\n",
    "        return(\"It is prime number\")\n",
    "    else:\n",
    "        return(\"Not a prime number\")\n",
    "    \n",
    "if __name__==\"__main__\":\n",
    "    print(prime_number())\n",
    "    "
   ]
  },
  {
   "cell_type": "markdown",
   "metadata": {},
   "source": [
    "# Excercise 11\n",
    "Write a program that asks the user how many Fibonnaci numbers to generate and then generates them. Take this opportunity to think about how you can use functions. Make sure to ask the user to enter the number of numbers in the sequence to generate."
   ]
  },
  {
   "cell_type": "code",
   "execution_count": 2,
   "metadata": {},
   "outputs": [
    {
     "name": "stdout",
     "output_type": "stream",
     "text": [
      "[0, 1, 1, 2, 3, 5, 8, 13, 21, 34]\n"
     ]
    }
   ],
   "source": [
    "n=int(input(\"Enter the number of Fibonacci numbers to generate: \"))\n",
    "\n",
    "def fibonacci(n):\n",
    "    fib_sequence = [0, 1]\n",
    "    while len(fib_sequence) < n:\n",
    "        fib_sequence.append(fib_sequence[-1] + fib_sequence[-2])\n",
    "    return fib_sequence\n",
    "print(fibonacci(n))\n"
   ]
  },
  {
   "cell_type": "markdown",
   "metadata": {},
   "source": [
    "# Excercise 12\n",
    "Write a program (function!) that takes a list and returns a new list that contains all the elements of the first list minus all the duplicates."
   ]
  },
  {
   "cell_type": "code",
   "execution_count": 2,
   "metadata": {},
   "outputs": [
    {
     "name": "stdout",
     "output_type": "stream",
     "text": [
      "[]\n"
     ]
    }
   ],
   "source": [
    "n=list(map(int,input().split()))\n",
    "#my_set=set(n)\n",
    "#print(my_set)\n",
    "\n",
    "def function(n):\n",
    "    lst=[]\n",
    "    for i in range(int(len(n))):\n",
    "        count=n.count(i)\n",
    "        if count>1:\n",
    "            n.remove(i)\n",
    "            return lst\n",
    "print(function(n))"
   ]
  },
  {
   "cell_type": "markdown",
   "metadata": {},
   "source": [
    "# Excercise 13\n",
    "write a password generator in Python. Be creative with how you generate passwords - strong passwords have a mix of lowercase letters, uppercase letters, numbers, and symbols. The passwords should be random, generating a new password every time the user asks for a new password. Include your run-time code in a main method.\n",
    "\n",
    "Extra:\n",
    "\n",
    "Ask the user how strong they want their password to be. For weak passwords, pick a word or two from a list."
   ]
  },
  {
   "cell_type": "code",
   "execution_count": 49,
   "metadata": {},
   "outputs": [
    {
     "name": "stdout",
     "output_type": "stream",
     "text": [
      "CSbnkonrv*~#834\n"
     ]
    }
   ],
   "source": [
    "import random\n",
    "import string\n",
    "\n",
    "choice=str(input(f\"weak or strong\"))\n",
    "characters=[\"!\",\"2\",\"#\",\"$\",\"%\",\"^\",\"&\",\"*\",\"~\"]\n",
    "# weak=8\n",
    "# strong=16\n",
    "def choosing(choice):\n",
    "    if choice==\"weak\":\n",
    "        return \"weak password\"\n",
    "    elif choice==\"strong\":\n",
    "        return \"strong password\"\n",
    "    else:\n",
    "        raise Exception (\"pick one from weak and strong\")\n",
    "    \n",
    "def upper_case():\n",
    "    type_password=choosing(choice)\n",
    "    length=2\n",
    "    password=str()\n",
    "    if type_password==\"strong password\":\n",
    "        password=''.join(random.choices(string.ascii_uppercase,k=length))\n",
    "        return password\n",
    "    else:\n",
    "        return password\n",
    "    \n",
    "#print(upper_case())\n",
    "\n",
    "def other_letters():\n",
    "    password=upper_case()\n",
    "    #print(strong_password)\n",
    "    if password!=\"\":\n",
    "        password+=''.join(random.choices(string.ascii_lowercase,k=7))\n",
    "        return password\n",
    "    else:\n",
    "        password+=''.join(random.choices(string.ascii_lowercase,k=9))\n",
    "        return password\n",
    "    \n",
    "#print(other_letters())\n",
    "\n",
    "def special_characters():\n",
    "    characters=[\"!\",\"@\",\"#\",\"$\",\"%\",\"^\",\"&\",\"*\",\"~\"]\n",
    "    password=other_letters()\n",
    "    if any(ele.isupper() for ele in password):\n",
    "        password+=''.join(random.sample(characters,3))\n",
    "        return password\n",
    "    else:\n",
    "        password+=''.join(random.sample(characters,1))\n",
    "        return password\n",
    "    \n",
    "#print(special_characters())\n",
    "\n",
    "def password_generator():\n",
    "    password=special_characters()\n",
    "    if int(len(password))==12:\n",
    "        password+=''.join(str(random.randint(0,9)) for i in range(3))\n",
    "        return password\n",
    "    else:\n",
    "        password+=''.join(str(random.randint(0,9)) for i in range(2))\n",
    "        return password\n",
    "    \n",
    "print(password_generator())\n",
    "    \n",
    "\n",
    "\n",
    "\n",
    "# def password_generator():\n",
    "#     while True:\n"
   ]
  },
  {
   "cell_type": "markdown",
   "metadata": {},
   "source": [
    "# Excercise 14\n",
    "Use the BeautifulSoup and requests Python packages to print out a list of all the article titles on the New York Times homepage."
   ]
  },
  {
   "cell_type": "code",
   "execution_count": 61,
   "metadata": {},
   "outputs": [
    {
     "name": "stdout",
     "output_type": "stream",
     "text": [
      "The New York Times - Breaking News, US News, World News and Videos\n"
     ]
    }
   ],
   "source": [
    "import requests\n",
    "from bs4 import BeautifulSoup\n",
    "\n",
    "url = 'http://www.nytimes.com/'\n",
    "r = requests.get(url)\n",
    "r_html = r.text\n",
    "#print(r_html)\n",
    "\n",
    "soup = BeautifulSoup(r_html)\n",
    "title=soup.title.string\n",
    "print(title)"
   ]
  },
  {
   "cell_type": "markdown",
   "metadata": {},
   "source": [
    "# Excercise 15\n",
    "Create a program that will play the “cows and bulls” game with the user. The game works like this:\n",
    "\n",
    "Randomly generate a 4-digit number. Ask the user to guess a 4-digit number. For every digit that the user guessed correctly in the correct place, they have a “cow”. For every digit the user guessed correctly in the wrong place is a “bull.” Every time the user makes a guess, tell them how many “cows” and “bulls” they have. Once the user guesses the correct number, the game is over. Keep track of the number of guesses the user makes throughout the game and tell the user at the end.\n"
   ]
  },
  {
   "cell_type": "code",
   "execution_count": 4,
   "metadata": {},
   "outputs": [
    {
     "name": "stdout",
     "output_type": "stream",
     "text": [
      "welcome to game\n",
      "lost the game.the secret number is 7816\n"
     ]
    }
   ],
   "source": [
    "import random\n",
    "number=str(random.randint(0,9999))\n",
    "\n",
    "def compare_number(number,user_guess):\n",
    "    cowbull=[0,0]\n",
    "    for i in range(len(number)):\n",
    "        if number[i]==user_guess[i]:\n",
    "            cowbull[1]+=1\n",
    "        else:\n",
    "            cowbull[0]+=1\n",
    "    return cowbull\n",
    "    \n",
    "def playing(number):\n",
    "    playing=True\n",
    "    guesses=0\n",
    "    while playing:\n",
    "        user_guess=input(\"Give the guess\")\n",
    "        if user_guess==\"exit\":\n",
    "            print(f\"lost the game.the secret number is {number}\")\n",
    "            break\n",
    "        cowbullcount=compare_number(number,user_guess)\n",
    "        guesses+1\n",
    "        print(\"You have \"+ str(cowbullcount[0]) + \" cows, and \" + str(cowbullcount[1]) + \" bulls.\")\n",
    "\n",
    "        if cowbullcount[1]==4:\n",
    "            playing=False\n",
    "            print(\"u have won the game\")\n",
    "            break\n",
    "        else:\n",
    "            print(\"try again\")\n",
    "if __name__==\"__main__\":\n",
    "    print(\"welcome to game\")\n",
    "    playing(number)\n",
    "    \n",
    "\n",
    "\n"
   ]
  },
  {
   "cell_type": "markdown",
   "metadata": {},
   "source": [
    "# Excercise 16\n",
    "There are two ways of solving this problem: one version using a simple for loop to search through the elements of a list, and one using the concept of binary search, looking at the elements in the most efficient way possible.\n"
   ]
  },
  {
   "cell_type": "code",
   "execution_count": 2,
   "metadata": {},
   "outputs": [
    {
     "name": "stdout",
     "output_type": "stream",
     "text": [
      "True\n",
      "False\n"
     ]
    }
   ],
   "source": [
    "# using a simple loop\n",
    "def find(lst,ele_to_find):\n",
    "    for element in lst:\n",
    "        if element==ele_to_find:\n",
    "            return True\n",
    "    return False\n",
    "if __name__==\"__main__\":\n",
    "    lst=[2,3,4,5,6,7,8,9]\n",
    "    print(find(lst,4))\n",
    "    print(find(lst,10))"
   ]
  },
  {
   "cell_type": "markdown",
   "metadata": {},
   "source": [
    "# Binary search\n",
    "- Let’s take the list a = [1, 3, 5, 30, 42, 43, 500]. It is an “ordered list”, or a list where the elements in the list go from smaller to larger. Let’s say we want to know whether the element 9 is in the list or not. Here is what we do:\n",
    "\n",
    "- Look at the middle element in the list - it is ‘30’. * ‘9 < 30’, so let us ignore the elements to the right of ‘30’.\n",
    "- The new list we are looking at is now [1, 3, 5].\n",
    "- Look at the middle element in this new list - it is 3.\n",
    "- ‘9 > 3’, so ignore the elements to the left of 3.\n",
    "- The new list we are looking at is [5].\n",
    "- The list has one element and it is not 9.\n",
    "- 9 is not in the list"
   ]
  },
  {
   "cell_type": "code",
   "execution_count": 12,
   "metadata": {},
   "outputs": [
    {
     "name": "stdout",
     "output_type": "stream",
     "text": [
      "False\n",
      "True\n"
     ]
    }
   ],
   "source": [
    "# using the binary search\n",
    "def find(ord_lst,element_to_find):\n",
    "    start_index=0\n",
    "    end_index=len(ord_lst)-1\n",
    "\n",
    "    while True:\n",
    "        middle_index=(end_index+start_index)//2\n",
    "\n",
    "        if middle_index<start_index or middle_index>end_index or middle_index<0:\n",
    "            return False\n",
    "        \n",
    "        middle_element=ord_lst[middle_index]\n",
    "        if middle_element==element_to_find:\n",
    "            return True\n",
    "        elif middle_element<element_to_find:\n",
    "            start_index=middle_index+1\n",
    "        else:\n",
    "            end_index=middle_index-1\n",
    "    return False\n",
    "\n",
    "if __name__==\"__main__\":\n",
    "    l=[2,4,6,8,9]\n",
    "    print(find(l,5))\n",
    "    print(find(l,9))"
   ]
  },
  {
   "cell_type": "markdown",
   "metadata": {},
   "source": [
    "# Excercise 17\n",
    "Given two .txt files that have lists of numbers in them, find the numbers that are overlapping. One .txt file has a list of all prime numbers under 1000, and the other .txt file has a list of happy numbers up to 1000\n"
   ]
  },
  {
   "cell_type": "code",
   "execution_count": 15,
   "metadata": {},
   "outputs": [
    {
     "name": "stdout",
     "output_type": "stream",
     "text": [
      "[7, 13, 19, 23, 31, 79, 97, 103, 109, 139, 167, 193, 239, 263, 293, 313, 331, 367, 379, 383, 397, 409, 487, 563, 617, 653, 673, 683, 709, 739, 761, 863, 881, 907, 937]\n"
     ]
    }
   ],
   "source": [
    "primelist=[]\n",
    "with open('prime_numbers.txt') as primesfile:\n",
    "    line=primesfile.readline()\n",
    "    while line:\n",
    "        primelist.append(int(line))\n",
    "        line=primesfile.readline()\n",
    "\n",
    "happieslist=[]\n",
    "with open('happy_numbers.txt') as happiesfile:\n",
    "    line=happiesfile.readline()\n",
    "    while line:\n",
    "        happieslist.append(int(line))\n",
    "        line=happiesfile.readline()\n",
    "\n",
    "overlap_lst=[]\n",
    "for elem in primelist:\n",
    "    if elem in happieslist:\n",
    "        overlap_lst.append(elem)\n",
    "print(overlap_lst)\n"
   ]
  },
  {
   "cell_type": "code",
   "execution_count": 16,
   "metadata": {},
   "outputs": [
    {
     "name": "stdout",
     "output_type": "stream",
     "text": [
      "[7, 13, 19, 23, 31, 79, 97, 103, 109, 139, 167, 193, 239, 263, 293, 313, 331, 367, 379, 383, 397, 409, 487, 563, 617, 653, 673, 683, 709, 739, 761, 863, 881, 907, 937]\n"
     ]
    }
   ],
   "source": [
    "# using the function\n",
    "def filetolist(filename):\n",
    "    list_to_return=[]\n",
    "    with open(filename) as f:\n",
    "        line=f.readline()\n",
    "        while line:\n",
    "            list_to_return.append(int(line))\n",
    "            line=f.readline()\n",
    "    return list_to_return\n",
    "primelist=filetolist('prime_numbers.txt')\n",
    "happieslist=filetolist('happy_numbers.txt')\n",
    "\n",
    "overlaplist=[elem for elem in primelist if elem in happieslist]\n",
    "print(overlaplist)\n"
   ]
  },
  {
   "cell_type": "markdown",
   "metadata": {},
   "source": [
    "# Excercise 18\n"
   ]
  },
  {
   "cell_type": "code",
   "execution_count": 20,
   "metadata": {},
   "outputs": [
    {
     "name": "stdout",
     "output_type": "stream",
     "text": [
      " ---  ---  --- \n",
      "|    |    |    |    \n",
      " ---  ---  --- \n",
      "|    |    |    |    \n",
      " ---  ---  --- \n",
      "|    |    |    |    \n",
      " ---  ---  --- \n"
     ]
    }
   ],
   "source": [
    "def print_horiz_line():\n",
    "    print(\" --- \" * board_size)\n",
    "\n",
    "def print_vert_line():\n",
    "    print(\"|    \" * (board_size + 1))\n",
    "\n",
    "if __name__ == \"__main__\":\n",
    "    board_size = int(input(\"What size of game board? \"))\n",
    "\n",
    "for index in range(board_size):\n",
    "    print_horiz_line()\n",
    "    print_vert_line()\n",
    "print_horiz_line()"
   ]
  },
  {
   "cell_type": "markdown",
   "metadata": {},
   "source": [
    "# Excercise 19\n",
    "This time, we’re going to do exactly the opposite. You, the user, will have in your head a number between 0 and 100. The program will guess a number, and you, the user, will say whether it is too high, too low, or your number."
   ]
  },
  {
   "cell_type": "code",
   "execution_count": 27,
   "metadata": {},
   "outputs": [
    {
     "name": "stdout",
     "output_type": "stream",
     "text": [
      "welcome to guessing game\n",
      "too high try again\n",
      "too low try again\n",
      "too low try again\n",
      "too high try again\n",
      "too high try again\n",
      "too high try again\n",
      "too low try again\n",
      "too high try again\n",
      "too high try again\n",
      "too low try again\n",
      "out of chances. the number is 345\n"
     ]
    }
   ],
   "source": [
    "import random\n",
    "lower_limit=1\n",
    "upper_limit=1000\n",
    "max_chances=10\n",
    "number=int(input('the number in my head is :'))\n",
    "\n",
    "def get_guess():\n",
    "    while True:\n",
    "        try:\n",
    "            guess=random.randint(lower_limit,upper_limit)\n",
    "            if lower_limit<=guess<=upper_limit:\n",
    "                return guess\n",
    "            else:\n",
    "                print(\"choose between the limits\")\n",
    "        except ValueError:\n",
    "            print(\"invalid number\")\n",
    "\n",
    "def guess_game(guess,number):\n",
    "    if guess==number:\n",
    "        return(\"correct\")\n",
    "    elif guess>number:\n",
    "        return(\"too high\")\n",
    "    else:\n",
    "        return(\"too low\")\n",
    "\n",
    "def play_game():\n",
    "    chances=0\n",
    "    won=False\n",
    "\n",
    "    while chances<max_chances:\n",
    "        chances+=1\n",
    "        guess=get_guess()\n",
    "        result=guess_game(guess,number)\n",
    "        if result==\"correct\":\n",
    "            print(f\"the computer have guessed the {number} in {chances} attempts\")\n",
    "            won=True\n",
    "            break\n",
    "        else:\n",
    "            print(f\"{result} try again\")\n",
    "    if not won:\n",
    "        print(f\"out of chances. the number is {number}\")\n",
    "if __name__==\"__main__\":\n",
    "    print(\"welcome to guessing game\")\n",
    "    play_game()\n"
   ]
  },
  {
   "cell_type": "markdown",
   "metadata": {},
   "source": [
    "# Excercise 20\n",
    "Implement a function that takes as input three variables, and returns the largest of the three. Do this without using the Python max() function!\n",
    "\n",
    "The goal of this exercise is to think about some internals that Python normally takes care of for us. All you need is some variables and if statements!"
   ]
  },
  {
   "cell_type": "code",
   "execution_count": 5,
   "metadata": {},
   "outputs": [
    {
     "name": "stdout",
     "output_type": "stream",
     "text": [
      "3\n"
     ]
    }
   ],
   "source": [
    "# num1=int(input('Enter the first digit:'))\n",
    "# num2=int(input('Enter the second digit:'))\n",
    "# num3=int(input('Enter the third digit:'))\n",
    "def num():\n",
    "    for i in range(3):\n",
    "        lst=[]\n",
    "        num=int(input('give the number:'))\n",
    "        lst.append(num)\n",
    "    return lst\n",
    "\n",
    "max_num=max(num())\n",
    "print(max_num)"
   ]
  },
  {
   "cell_type": "markdown",
   "metadata": {},
   "source": [
    "# Excercise 21\n",
    "In this exercise, the task is to write a function that picks a random word from a list of words from the SOWPODS dictionary. Download this file and save it in the same directory as your Python code. This file is Peter Norvig’s compilation of the dictionary of words used in professional Scrabble tournaments. Each line in the file contains a single word."
   ]
  },
  {
   "cell_type": "code",
   "execution_count": 6,
   "metadata": {},
   "outputs": [
    {
     "name": "stdout",
     "output_type": "stream",
     "text": [
      "File downloaded successfully\n"
     ]
    }
   ],
   "source": [
    "# we can download the file using url in three ways\n",
    "import requests\n",
    "url='https://norvig.com/ngrams/sowpods.txt'\n",
    "\n",
    "response=requests.get(url)\n",
    "file_path='words_using_requests.txt'\n",
    "\n",
    "if response.status_code==200:\n",
    "    with open(file_path,'wb') as file:\n",
    "        file.write(response.content)\n",
    "    print(\"File downloaded successfully\")\n",
    "else:\n",
    "    print('Failed to download the file')"
   ]
  },
  {
   "cell_type": "code",
   "execution_count": 7,
   "metadata": {},
   "outputs": [
    {
     "data": {
      "text/plain": [
       "('words_using_urllib.txt', <http.client.HTTPMessage at 0x2120bf85ee0>)"
      ]
     },
     "execution_count": 7,
     "metadata": {},
     "output_type": "execute_result"
    }
   ],
   "source": [
    "# using urlib3 module\n",
    "import urllib.request\n",
    "url='https://norvig.com/ngrams/sowpods.txt'\n",
    "\n",
    "file_path='words_using_urllib.txt'\n",
    "urllib.request.urlretrieve(url,file_path)\n"
   ]
  },
  {
   "cell_type": "code",
   "execution_count": 12,
   "metadata": {},
   "outputs": [
    {
     "name": "stdout",
     "output_type": "stream",
     "text": [
      "Requirement already satisfied: wget in c:\\users\\91965\\appdata\\local\\programs\\python\\python39\\lib\\site-packages (3.2)\n"
     ]
    },
    {
     "name": "stderr",
     "output_type": "stream",
     "text": [
      "\n",
      "[notice] A new release of pip is available: 24.0 -> 24.2\n",
      "[notice] To update, run: python.exe -m pip install --upgrade pip\n"
     ]
    }
   ],
   "source": [
    "! pip install wget"
   ]
  },
  {
   "cell_type": "code",
   "execution_count": 11,
   "metadata": {},
   "outputs": [
    {
     "name": "stdout",
     "output_type": "stream",
     "text": [
      "download\n"
     ]
    }
   ],
   "source": [
    "# using wget\n",
    "import  wget\n",
    "url='https://norvig.com/ngrams/sowpods.txt'\n",
    "\n",
    "file_path='words_using_wget.txt'\n",
    "wget.download(url,file_path)\n",
    "print('download')"
   ]
  },
  {
   "cell_type": "code",
   "execution_count": 18,
   "metadata": {},
   "outputs": [
    {
     "name": "stdout",
     "output_type": "stream",
     "text": [
      "COUNTERFEITERS\n"
     ]
    }
   ],
   "source": [
    "import random\n",
    "\n",
    "file=open('words_using_requests.txt','r')\n",
    "words=file.read()\n",
    "\n",
    "lst=words.split('\\n')\n",
    "\n",
    "random_word=random.choice(lst)\n",
    "print(random_word)\n"
   ]
  },
  {
   "cell_type": "markdown",
   "metadata": {},
   "source": [
    "# Excercise 22\n",
    "Let’s continue building Hangman. In the game of Hangman, a clue word is given by the program that the player has to guess, letter by letter. The player guesses one letter at a time until the entire word has been guessed. (In the actual game, the player can only guess 6 letters incorrectly before losing)"
   ]
  },
  {
   "cell_type": "code",
   "execution_count": 1,
   "metadata": {},
   "outputs": [],
   "source": [
    "import random"
   ]
  }
 ],
 "metadata": {
  "kernelspec": {
   "display_name": "Python 3",
   "language": "python",
   "name": "python3"
  },
  "language_info": {
   "codemirror_mode": {
    "name": "ipython",
    "version": 3
   },
   "file_extension": ".py",
   "mimetype": "text/x-python",
   "name": "python",
   "nbconvert_exporter": "python",
   "pygments_lexer": "ipython3",
   "version": "3.9.5"
  }
 },
 "nbformat": 4,
 "nbformat_minor": 2
}
